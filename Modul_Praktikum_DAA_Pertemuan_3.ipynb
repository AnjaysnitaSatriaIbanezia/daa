{
  "nbformat": 4,
  "nbformat_minor": 0,
  "metadata": {
    "colab": {
      "name": "Modul_Praktikum_DAA_Pertemuan_3.ipynb",
      "provenance": [],
      "collapsed_sections": []
    },
    "kernelspec": {
      "name": "python3",
      "display_name": "Python 3"
    }
  },
  "cells": [
    {
      "cell_type": "code",
      "metadata": {
        "id": "tGkyLg-TqNDh"
      },
      "source": [
        "#swap function\n",
        "var1 = 1\n",
        "var2 = 2\n",
        "var1,var2 = var2,var1"
      ],
      "execution_count": 1,
      "outputs": []
    },
    {
      "cell_type": "code",
      "metadata": {
        "id": "b_a0Ur77qu-e",
        "outputId": "8f10992d-ee9d-46c7-db00-7057c47415bc",
        "colab": {
          "base_uri": "https://localhost:8080/"
        }
      },
      "source": [
        "print(var1,var2)"
      ],
      "execution_count": 2,
      "outputs": [
        {
          "output_type": "stream",
          "text": [
            "2 1\n"
          ],
          "name": "stdout"
        }
      ]
    },
    {
      "cell_type": "code",
      "metadata": {
        "id": "3m7dlFU1q1iq"
      },
      "source": [
        "list = [18,8,4,16,9,27,11]\n",
        "\n",
        "#modifikasi sesuai angka favorit anda"
      ],
      "execution_count": 11,
      "outputs": []
    },
    {
      "cell_type": "code",
      "metadata": {
        "id": "tyF0qLYrrKcp",
        "outputId": "363a85ec-5f94-41b4-9853-50fcab42ef9c",
        "colab": {
          "base_uri": "https://localhost:8080/"
        }
      },
      "source": [
        "#proses penukaran bubble sort\n",
        "\n",
        "lastElementIndex = len(list)-1\n",
        "print(0,list)\n",
        "for idx in range(lastElementIndex):\n",
        "                if list[idx]>list[idx+1]:\n",
        "                    list[idx],list[idx+1]=list[idx+1],list[idx]\n",
        "                print(idx+1,list)"
      ],
      "execution_count": 12,
      "outputs": [
        {
          "output_type": "stream",
          "text": [
            "0 [18, 8, 4, 16, 9, 27, 11]\n",
            "1 [8, 18, 4, 16, 9, 27, 11]\n",
            "2 [8, 4, 18, 16, 9, 27, 11]\n",
            "3 [8, 4, 16, 18, 9, 27, 11]\n",
            "4 [8, 4, 16, 9, 18, 27, 11]\n",
            "5 [8, 4, 16, 9, 18, 27, 11]\n",
            "6 [8, 4, 16, 9, 18, 11, 27]\n"
          ],
          "name": "stdout"
        }
      ]
    },
    {
      "cell_type": "code",
      "metadata": {
        "id": "JjSSoEhCyCip",
        "outputId": "720f37e8-babc-4192-8b1f-997072b43ee1",
        "colab": {
          "base_uri": "https://localhost:8080/"
        }
      },
      "source": [
        "list"
      ],
      "execution_count": 13,
      "outputs": [
        {
          "output_type": "execute_result",
          "data": {
            "text/plain": [
              "[8, 4, 16, 9, 18, 11, 27]"
            ]
          },
          "metadata": {
            "tags": []
          },
          "execution_count": 13
        }
      ]
    },
    {
      "cell_type": "code",
      "metadata": {
        "id": "p-wPFFhUy2EM"
      },
      "source": [
        "def BubbleSort(list):\n",
        "  # Exchange the elements to arrange in order\n",
        "  lastElementIndex + len(list)-1\n",
        "  for passNo in range(lastElementIndex,0,-1):\n",
        "    for idx in range(passNo):\n",
        "      if list[idx]>list[idx+1]:\n",
        "        list[idx],list[idx+1]=list[idx+1],list[idx]\n",
        "      return list"
      ],
      "execution_count": 16,
      "outputs": []
    },
    {
      "cell_type": "code",
      "metadata": {
        "id": "g8GY6tRPzpsh"
      },
      "source": [
        "#Masukkan angka dengan urutan lainnya\n",
        "\n",
        "list = [27,18,4,8,11,9,16]"
      ],
      "execution_count": 17,
      "outputs": []
    },
    {
      "cell_type": "code",
      "metadata": {
        "id": "mRzNPe5Ey6vt",
        "outputId": "543ef012-66a9-4264-f0ee-b170b46e2686",
        "colab": {
          "base_uri": "https://localhost:8080/"
        }
      },
      "source": [
        "BubbleSort(list)"
      ],
      "execution_count": 18,
      "outputs": [
        {
          "output_type": "execute_result",
          "data": {
            "text/plain": [
              "[18, 27, 4, 8, 11, 9, 16]"
            ]
          },
          "metadata": {
            "tags": []
          },
          "execution_count": 18
        }
      ]
    },
    {
      "cell_type": "code",
      "metadata": {
        "id": "UVktsRYtz-tm"
      },
      "source": [
        "def InsertionSort(list):\n",
        "  for i in range(1, len(list)):\n",
        "    j = i-1\n",
        "    next = list[i]\n",
        "    # Compare the current element with next one\n",
        "\n",
        "    while (list[j] > next) and (j >= 0):\n",
        "      list[j+1] = list[j]\n",
        "      j=j-1\n",
        "      list[j+1] = next\n",
        "      return list"
      ],
      "execution_count": 19,
      "outputs": []
    },
    {
      "cell_type": "code",
      "metadata": {
        "id": "0AKZRcRj0uAM"
      },
      "source": [
        "#Masukkan angka dengan urutan lainnya\n",
        "\n",
        "list = [35,31,32,34,33,37,36]"
      ],
      "execution_count": 20,
      "outputs": []
    },
    {
      "cell_type": "code",
      "metadata": {
        "id": "-MKusyMX02qo",
        "outputId": "8ccae7e2-1f2c-4881-b3bb-3262a06557d0",
        "colab": {
          "base_uri": "https://localhost:8080/"
        }
      },
      "source": [
        "list"
      ],
      "execution_count": 21,
      "outputs": [
        {
          "output_type": "execute_result",
          "data": {
            "text/plain": [
              "[35, 31, 32, 34, 33, 37, 36]"
            ]
          },
          "metadata": {
            "tags": []
          },
          "execution_count": 21
        }
      ]
    },
    {
      "cell_type": "code",
      "metadata": {
        "id": "gZtc3sJD057N",
        "outputId": "4ccd007a-7e6b-4bdc-eacc-1ff0f4a15bab",
        "colab": {
          "base_uri": "https://localhost:8080/"
        }
      },
      "source": [
        "InsertionSort(list)"
      ],
      "execution_count": 22,
      "outputs": [
        {
          "output_type": "execute_result",
          "data": {
            "text/plain": [
              "[31, 35, 32, 34, 33, 37, 36]"
            ]
          },
          "metadata": {
            "tags": []
          },
          "execution_count": 22
        }
      ]
    },
    {
      "cell_type": "code",
      "metadata": {
        "id": "KAHqcAeH1AQd",
        "outputId": "c56131c7-908a-4474-9725-b28d67846e0a",
        "colab": {
          "base_uri": "https://localhost:8080/"
        }
      },
      "source": [
        "list"
      ],
      "execution_count": 23,
      "outputs": [
        {
          "output_type": "execute_result",
          "data": {
            "text/plain": [
              "[31, 35, 32, 34, 33, 37, 36]"
            ]
          },
          "metadata": {
            "tags": []
          },
          "execution_count": 23
        }
      ]
    },
    {
      "cell_type": "code",
      "metadata": {
        "id": "Vxo_sIbN1Fl4"
      },
      "source": [
        "def SelectionSort(list):\n",
        "    for fill_slot in range(len(list) - 1, 0, -1):\n",
        "        max_index = 0\n",
        "        for location in range(1, fill_slot +1):\n",
        "            if list[location] > list[max_index]:\n",
        "                max_index = location\n",
        "            list[fill_slot], list[max_index] = list[max_index],list[fill_slot]\n",
        "        return list "
      ],
      "execution_count": 38,
      "outputs": []
    },
    {
      "cell_type": "code",
      "metadata": {
        "id": "myedOaSc3Skl",
        "outputId": "203ca48d-5f8f-4a2e-de47-ff5f1cf120af",
        "colab": {
          "base_uri": "https://localhost:8080/"
        }
      },
      "source": [
        "list = [70,15,25,19,44]\n",
        "SelectionSort(list)"
      ],
      "execution_count": 39,
      "outputs": [
        {
          "output_type": "execute_result",
          "data": {
            "text/plain": [
              "[44, 15, 25, 19, 70]"
            ]
          },
          "metadata": {
            "tags": []
          },
          "execution_count": 39
        }
      ]
    },
    {
      "cell_type": "code",
      "metadata": {
        "id": "mg-7R2Db2jtp",
        "outputId": "25a721ce-a4b5-4e6c-8e60-4b9d78e5a5eb",
        "colab": {
          "base_uri": "https://localhost:8080/"
        }
      },
      "source": [
        "list"
      ],
      "execution_count": 40,
      "outputs": [
        {
          "output_type": "execute_result",
          "data": {
            "text/plain": [
              "[44, 15, 25, 19, 70]"
            ]
          },
          "metadata": {
            "tags": []
          },
          "execution_count": 40
        }
      ]
    },
    {
      "cell_type": "code",
      "metadata": {
        "id": "_RatP7WS3kK5"
      },
      "source": [
        "def LinearSearch(list, item):\n",
        "    index = 0\n",
        "    found = False\n",
        "    \n",
        "# Match the value with each data element\n",
        "    while index < len(list) and found is False:\n",
        "        if list[index] == item:\n",
        "            found = True\n",
        "        else:\n",
        "            index = index + 1\n",
        "    return found"
      ],
      "execution_count": 44,
      "outputs": []
    },
    {
      "cell_type": "code",
      "metadata": {
        "id": "veWISsHJ6Vfm",
        "outputId": "615f99bd-7fbb-419b-97df-cf0999d8fb9a",
        "colab": {
          "base_uri": "https://localhost:8080/"
        }
      },
      "source": [
        "list = [12, 33, 11, 99, 22, 55, 90]\n",
        "print(LinearSearch(list, 12))\n",
        "print(LinearSearch(list, 91))"
      ],
      "execution_count": 45,
      "outputs": [
        {
          "output_type": "stream",
          "text": [
            "True\n",
            "False\n"
          ],
          "name": "stdout"
        }
      ]
    },
    {
      "cell_type": "code",
      "metadata": {
        "id": "l2U_k4tK6mmn"
      },
      "source": [
        "def BinarySearch(list, item):\n",
        "    first = 0\n",
        "    last = len(list)-1\n",
        "    found = False\n",
        "\n",
        "    while first<=last and not found:\n",
        "        midpoint = (first + last)//2\n",
        "        if list[midpoint] == item:\n",
        "            found = True\n",
        "        else:\n",
        "            if item < list[midpoint]:\n",
        "                last = midpoint-1\n",
        "            else:\n",
        "                first = midpoint+1\n",
        "    return found"
      ],
      "execution_count": 48,
      "outputs": []
    },
    {
      "cell_type": "code",
      "metadata": {
        "id": "jiIl9E5J7Xe0",
        "outputId": "869b43be-6e19-4059-f460-5211afdf03ea",
        "colab": {
          "base_uri": "https://localhost:8080/"
        }
      },
      "source": [
        "list = [12, 33, 11, 90, 22, 55, 90]\n",
        "sorted_list = BubbleSort(list)\n",
        "print(BinarySearch(list, 12))\n",
        "print(BinarySearch(list, 91))"
      ],
      "execution_count": 49,
      "outputs": [
        {
          "output_type": "stream",
          "text": [
            "True\n",
            "False\n"
          ],
          "name": "stdout"
        }
      ]
    },
    {
      "cell_type": "code",
      "metadata": {
        "id": "8xF86Zgs7E2G"
      },
      "source": [
        "def intPolsearch(list, x ):\n",
        "    idx0 = 0\n",
        "    idxn = (len(list) - 1)\n",
        "    found = False\n",
        "    while idx0 <= idxn and x >= list[idx0] and x <= list[idxn]:\n",
        "\n",
        "# Find the mid plot\n",
        "        mid = idx0 +int(((float(idxn - idx0)/( list[idxn] - list[idx0])) * ( x - list[idx0])))\n",
        "\n",
        "# Compare the value at mid point with search value\n",
        "        if list[mid] == x:\n",
        "            found = True\n",
        "            return found\n",
        "\n",
        "        if list[mid] < x:\n",
        "            idx0 = mid + 1\n",
        "    return found"
      ],
      "execution_count": 50,
      "outputs": []
    },
    {
      "cell_type": "code",
      "metadata": {
        "id": "J5eNKqd5BweV"
      },
      "source": [
        "list = [12, 33, 11, 99, 22, 55, 90]\n",
        "sorted_list = BubbleSort(list)\n",
        "print(IntPolsearch(list, 12))\n",
        "print(IntPolsearch(list,91))"
      ],
      "execution_count": 55,
      "outputs": []
    },
    {
      "cell_type": "code",
      "metadata": {
        "id": "8tT-UaT5CnJn"
      },
      "source": [
        "True\n",
        "False "
      ],
      "execution_count": null,
      "outputs": []
    }
  ]
}